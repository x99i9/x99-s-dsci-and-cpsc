{
 "cells": [
  {
   "cell_type": "code",
   "execution_count": null,
   "id": "369256f0-9eb5-4270-8dc0-d11483fe0bdb",
   "metadata": {},
   "outputs": [],
   "source": [
    "'hello'"
   ]
  }
 ],
 "metadata": {
  "kernelspec": {
   "display_name": "R",
   "language": "R",
   "name": "ir"
  },
  "language_info": {
   "codemirror_mode": "r",
   "file_extension": ".r",
   "mimetype": "text/x-r-source",
   "name": "R",
   "pygments_lexer": "r",
   "version": "4.1.3"
  }
 },
 "nbformat": 4,
 "nbformat_minor": 5
}
